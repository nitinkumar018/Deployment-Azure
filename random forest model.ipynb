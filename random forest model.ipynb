{
 "cells": [
  {
   "cell_type": "code",
   "execution_count": 1,
   "id": "39c40bae",
   "metadata": {},
   "outputs": [
    {
     "data": {
      "text/html": [
       "<div>\n",
       "<style scoped>\n",
       "    .dataframe tbody tr th:only-of-type {\n",
       "        vertical-align: middle;\n",
       "    }\n",
       "\n",
       "    .dataframe tbody tr th {\n",
       "        vertical-align: top;\n",
       "    }\n",
       "\n",
       "    .dataframe thead th {\n",
       "        text-align: right;\n",
       "    }\n",
       "</style>\n",
       "<table border=\"1\" class=\"dataframe\">\n",
       "  <thead>\n",
       "    <tr style=\"text-align: right;\">\n",
       "      <th></th>\n",
       "      <th>Date</th>\n",
       "      <th>Maximum Wind Speed</th>\n",
       "      <th>Maximum Temperature</th>\n",
       "      <th>Minimum Temperature</th>\n",
       "      <th>Average Temperature</th>\n",
       "      <th>Average Wind Speed</th>\n",
       "      <th>AQI</th>\n",
       "    </tr>\n",
       "  </thead>\n",
       "  <tbody>\n",
       "    <tr>\n",
       "      <th>0</th>\n",
       "      <td>25-07-2023</td>\n",
       "      <td>21.70</td>\n",
       "      <td>21.24</td>\n",
       "      <td>15.87</td>\n",
       "      <td>20.87</td>\n",
       "      <td>20.67</td>\n",
       "      <td>27.0</td>\n",
       "    </tr>\n",
       "    <tr>\n",
       "      <th>1</th>\n",
       "      <td>08-03-2023</td>\n",
       "      <td>19.36</td>\n",
       "      <td>17.95</td>\n",
       "      <td>14.28</td>\n",
       "      <td>16.97</td>\n",
       "      <td>18.57</td>\n",
       "      <td>63.0</td>\n",
       "    </tr>\n",
       "    <tr>\n",
       "      <th>2</th>\n",
       "      <td>18-03-2023</td>\n",
       "      <td>24.84</td>\n",
       "      <td>23.59</td>\n",
       "      <td>20.56</td>\n",
       "      <td>21.25</td>\n",
       "      <td>22.78</td>\n",
       "      <td>76.0</td>\n",
       "    </tr>\n",
       "    <tr>\n",
       "      <th>3</th>\n",
       "      <td>17-07-2023</td>\n",
       "      <td>7.69</td>\n",
       "      <td>19.24</td>\n",
       "      <td>16.82</td>\n",
       "      <td>18.69</td>\n",
       "      <td>5.79</td>\n",
       "      <td>75.0</td>\n",
       "    </tr>\n",
       "    <tr>\n",
       "      <th>4</th>\n",
       "      <td>06-05-2023</td>\n",
       "      <td>21.81</td>\n",
       "      <td>32.87</td>\n",
       "      <td>27.80</td>\n",
       "      <td>30.01</td>\n",
       "      <td>20.67</td>\n",
       "      <td>39.0</td>\n",
       "    </tr>\n",
       "  </tbody>\n",
       "</table>\n",
       "</div>"
      ],
      "text/plain": [
       "         Date  Maximum Wind Speed  Maximum Temperature  Minimum Temperature  \\\n",
       "0  25-07-2023               21.70                21.24                15.87   \n",
       "1  08-03-2023               19.36                17.95                14.28   \n",
       "2  18-03-2023               24.84                23.59                20.56   \n",
       "3  17-07-2023                7.69                19.24                16.82   \n",
       "4  06-05-2023               21.81                32.87                27.80   \n",
       "\n",
       "   Average Temperature  Average Wind Speed   AQI  \n",
       "0                20.87               20.67  27.0  \n",
       "1                16.97               18.57  63.0  \n",
       "2                21.25               22.78  76.0  \n",
       "3                18.69                5.79  75.0  \n",
       "4                30.01               20.67  39.0  "
      ]
     },
     "execution_count": 1,
     "metadata": {},
     "output_type": "execute_result"
    }
   ],
   "source": [
    "import pandas as pd    # import pandas lib. using it's short form pd\n",
    "data = pd.read_csv(r'aqi_dataset.csv', header=0)\n",
    "data.head()"
   ]
  },
  {
   "cell_type": "code",
   "execution_count": 2,
   "id": "3c2a3a84",
   "metadata": {},
   "outputs": [
    {
     "name": "stdout",
     "output_type": "stream",
     "text": [
      "<class 'pandas.core.frame.DataFrame'>\n",
      "RangeIndex: 11 entries, 0 to 10\n",
      "Data columns (total 7 columns):\n",
      " #   Column               Non-Null Count  Dtype  \n",
      "---  ------               --------------  -----  \n",
      " 0   Date                 11 non-null     object \n",
      " 1   Maximum Wind Speed   11 non-null     float64\n",
      " 2   Maximum Temperature  11 non-null     float64\n",
      " 3   Minimum Temperature  11 non-null     float64\n",
      " 4   Average Temperature  11 non-null     float64\n",
      " 5   Average Wind Speed   11 non-null     float64\n",
      " 6   AQI                  11 non-null     float64\n",
      "dtypes: float64(6), object(1)\n",
      "memory usage: 744.0+ bytes\n"
     ]
    }
   ],
   "source": [
    "data.info() # gives information about null values and data type of each column"
   ]
  },
  {
   "cell_type": "code",
   "execution_count": 3,
   "id": "080bb3dc",
   "metadata": {},
   "outputs": [],
   "source": [
    "#drops the Date column which is not necessary in prediction\n",
    "data = data.drop('Date', axis=1)"
   ]
  },
  {
   "cell_type": "code",
   "execution_count": 4,
   "id": "0c130dcf",
   "metadata": {},
   "outputs": [
    {
     "data": {
      "text/html": [
       "<div>\n",
       "<style scoped>\n",
       "    .dataframe tbody tr th:only-of-type {\n",
       "        vertical-align: middle;\n",
       "    }\n",
       "\n",
       "    .dataframe tbody tr th {\n",
       "        vertical-align: top;\n",
       "    }\n",
       "\n",
       "    .dataframe thead th {\n",
       "        text-align: right;\n",
       "    }\n",
       "</style>\n",
       "<table border=\"1\" class=\"dataframe\">\n",
       "  <thead>\n",
       "    <tr style=\"text-align: right;\">\n",
       "      <th></th>\n",
       "      <th>Maximum Wind Speed</th>\n",
       "      <th>Maximum Temperature</th>\n",
       "      <th>Minimum Temperature</th>\n",
       "      <th>Average Temperature</th>\n",
       "      <th>Average Wind Speed</th>\n",
       "      <th>AQI</th>\n",
       "    </tr>\n",
       "  </thead>\n",
       "  <tbody>\n",
       "    <tr>\n",
       "      <th>0</th>\n",
       "      <td>21.70</td>\n",
       "      <td>21.24</td>\n",
       "      <td>15.87</td>\n",
       "      <td>20.87</td>\n",
       "      <td>20.67</td>\n",
       "      <td>27.0</td>\n",
       "    </tr>\n",
       "    <tr>\n",
       "      <th>1</th>\n",
       "      <td>19.36</td>\n",
       "      <td>17.95</td>\n",
       "      <td>14.28</td>\n",
       "      <td>16.97</td>\n",
       "      <td>18.57</td>\n",
       "      <td>63.0</td>\n",
       "    </tr>\n",
       "    <tr>\n",
       "      <th>2</th>\n",
       "      <td>24.84</td>\n",
       "      <td>23.59</td>\n",
       "      <td>20.56</td>\n",
       "      <td>21.25</td>\n",
       "      <td>22.78</td>\n",
       "      <td>76.0</td>\n",
       "    </tr>\n",
       "    <tr>\n",
       "      <th>3</th>\n",
       "      <td>7.69</td>\n",
       "      <td>19.24</td>\n",
       "      <td>16.82</td>\n",
       "      <td>18.69</td>\n",
       "      <td>5.79</td>\n",
       "      <td>75.0</td>\n",
       "    </tr>\n",
       "    <tr>\n",
       "      <th>4</th>\n",
       "      <td>21.81</td>\n",
       "      <td>32.87</td>\n",
       "      <td>27.80</td>\n",
       "      <td>30.01</td>\n",
       "      <td>20.67</td>\n",
       "      <td>39.0</td>\n",
       "    </tr>\n",
       "  </tbody>\n",
       "</table>\n",
       "</div>"
      ],
      "text/plain": [
       "   Maximum Wind Speed  Maximum Temperature  Minimum Temperature  \\\n",
       "0               21.70                21.24                15.87   \n",
       "1               19.36                17.95                14.28   \n",
       "2               24.84                23.59                20.56   \n",
       "3                7.69                19.24                16.82   \n",
       "4               21.81                32.87                27.80   \n",
       "\n",
       "   Average Temperature  Average Wind Speed   AQI  \n",
       "0                20.87               20.67  27.0  \n",
       "1                16.97               18.57  63.0  \n",
       "2                21.25               22.78  76.0  \n",
       "3                18.69                5.79  75.0  \n",
       "4                30.01               20.67  39.0  "
      ]
     },
     "execution_count": 4,
     "metadata": {},
     "output_type": "execute_result"
    }
   ],
   "source": [
    "data.head()"
   ]
  },
  {
   "cell_type": "code",
   "execution_count": 5,
   "id": "a1932702",
   "metadata": {},
   "outputs": [
    {
     "data": {
      "text/plain": [
       "(11, 6)"
      ]
     },
     "execution_count": 5,
     "metadata": {},
     "output_type": "execute_result"
    }
   ],
   "source": [
    "data.shape  # no. of rows & columns"
   ]
  },
  {
   "cell_type": "code",
   "execution_count": 6,
   "id": "ebf4721d",
   "metadata": {},
   "outputs": [
    {
     "data": {
      "text/plain": [
       "Maximum Wind Speed     0\n",
       "Maximum Temperature    0\n",
       "Minimum Temperature    0\n",
       "Average Temperature    0\n",
       "Average Wind Speed     0\n",
       "AQI                    0\n",
       "dtype: int64"
      ]
     },
     "execution_count": 6,
     "metadata": {},
     "output_type": "execute_result"
    }
   ],
   "source": [
    "data.isnull().sum()  # there is no null value in our dataset"
   ]
  },
  {
   "cell_type": "code",
   "execution_count": 7,
   "id": "4647a1d4",
   "metadata": {},
   "outputs": [
    {
     "data": {
      "text/plain": [
       "Maximum Wind Speed     float64\n",
       "Maximum Temperature    float64\n",
       "Minimum Temperature    float64\n",
       "Average Temperature    float64\n",
       "Average Wind Speed     float64\n",
       "AQI                    float64\n",
       "dtype: object"
      ]
     },
     "execution_count": 7,
     "metadata": {},
     "output_type": "execute_result"
    }
   ],
   "source": [
    "data.dtypes  # data type of each column "
   ]
  },
  {
   "cell_type": "code",
   "execution_count": 8,
   "id": "c387c604",
   "metadata": {},
   "outputs": [],
   "source": [
    "X = data.iloc[:,0:-1]  # define X \n",
    "Y = data.iloc[:,-1]   # define target var. Y"
   ]
  },
  {
   "cell_type": "code",
   "execution_count": 9,
   "id": "06a66e17",
   "metadata": {},
   "outputs": [
    {
     "data": {
      "text/html": [
       "<div>\n",
       "<style scoped>\n",
       "    .dataframe tbody tr th:only-of-type {\n",
       "        vertical-align: middle;\n",
       "    }\n",
       "\n",
       "    .dataframe tbody tr th {\n",
       "        vertical-align: top;\n",
       "    }\n",
       "\n",
       "    .dataframe thead th {\n",
       "        text-align: right;\n",
       "    }\n",
       "</style>\n",
       "<table border=\"1\" class=\"dataframe\">\n",
       "  <thead>\n",
       "    <tr style=\"text-align: right;\">\n",
       "      <th></th>\n",
       "      <th>Maximum Wind Speed</th>\n",
       "      <th>Maximum Temperature</th>\n",
       "      <th>Minimum Temperature</th>\n",
       "      <th>Average Temperature</th>\n",
       "      <th>Average Wind Speed</th>\n",
       "    </tr>\n",
       "  </thead>\n",
       "  <tbody>\n",
       "    <tr>\n",
       "      <th>0</th>\n",
       "      <td>21.70</td>\n",
       "      <td>21.24</td>\n",
       "      <td>15.87</td>\n",
       "      <td>20.87</td>\n",
       "      <td>20.67</td>\n",
       "    </tr>\n",
       "    <tr>\n",
       "      <th>1</th>\n",
       "      <td>19.36</td>\n",
       "      <td>17.95</td>\n",
       "      <td>14.28</td>\n",
       "      <td>16.97</td>\n",
       "      <td>18.57</td>\n",
       "    </tr>\n",
       "    <tr>\n",
       "      <th>2</th>\n",
       "      <td>24.84</td>\n",
       "      <td>23.59</td>\n",
       "      <td>20.56</td>\n",
       "      <td>21.25</td>\n",
       "      <td>22.78</td>\n",
       "    </tr>\n",
       "    <tr>\n",
       "      <th>3</th>\n",
       "      <td>7.69</td>\n",
       "      <td>19.24</td>\n",
       "      <td>16.82</td>\n",
       "      <td>18.69</td>\n",
       "      <td>5.79</td>\n",
       "    </tr>\n",
       "    <tr>\n",
       "      <th>4</th>\n",
       "      <td>21.81</td>\n",
       "      <td>32.87</td>\n",
       "      <td>27.80</td>\n",
       "      <td>30.01</td>\n",
       "      <td>20.67</td>\n",
       "    </tr>\n",
       "    <tr>\n",
       "      <th>5</th>\n",
       "      <td>21.72</td>\n",
       "      <td>21.44</td>\n",
       "      <td>15.27</td>\n",
       "      <td>20.82</td>\n",
       "      <td>20.47</td>\n",
       "    </tr>\n",
       "    <tr>\n",
       "      <th>6</th>\n",
       "      <td>19.56</td>\n",
       "      <td>17.25</td>\n",
       "      <td>14.48</td>\n",
       "      <td>16.27</td>\n",
       "      <td>18.37</td>\n",
       "    </tr>\n",
       "    <tr>\n",
       "      <th>7</th>\n",
       "      <td>24.14</td>\n",
       "      <td>23.39</td>\n",
       "      <td>20.86</td>\n",
       "      <td>21.75</td>\n",
       "      <td>22.38</td>\n",
       "    </tr>\n",
       "    <tr>\n",
       "      <th>8</th>\n",
       "      <td>7.59</td>\n",
       "      <td>19.14</td>\n",
       "      <td>16.02</td>\n",
       "      <td>18.39</td>\n",
       "      <td>5.19</td>\n",
       "    </tr>\n",
       "    <tr>\n",
       "      <th>9</th>\n",
       "      <td>21.11</td>\n",
       "      <td>32.67</td>\n",
       "      <td>27.18</td>\n",
       "      <td>30.81</td>\n",
       "      <td>20.17</td>\n",
       "    </tr>\n",
       "    <tr>\n",
       "      <th>10</th>\n",
       "      <td>25.00</td>\n",
       "      <td>32.00</td>\n",
       "      <td>17.00</td>\n",
       "      <td>24.00</td>\n",
       "      <td>18.00</td>\n",
       "    </tr>\n",
       "  </tbody>\n",
       "</table>\n",
       "</div>"
      ],
      "text/plain": [
       "    Maximum Wind Speed  Maximum Temperature  Minimum Temperature  \\\n",
       "0                21.70                21.24                15.87   \n",
       "1                19.36                17.95                14.28   \n",
       "2                24.84                23.59                20.56   \n",
       "3                 7.69                19.24                16.82   \n",
       "4                21.81                32.87                27.80   \n",
       "5                21.72                21.44                15.27   \n",
       "6                19.56                17.25                14.48   \n",
       "7                24.14                23.39                20.86   \n",
       "8                 7.59                19.14                16.02   \n",
       "9                21.11                32.67                27.18   \n",
       "10               25.00                32.00                17.00   \n",
       "\n",
       "    Average Temperature  Average Wind Speed  \n",
       "0                 20.87               20.67  \n",
       "1                 16.97               18.57  \n",
       "2                 21.25               22.78  \n",
       "3                 18.69                5.79  \n",
       "4                 30.01               20.67  \n",
       "5                 20.82               20.47  \n",
       "6                 16.27               18.37  \n",
       "7                 21.75               22.38  \n",
       "8                 18.39                5.19  \n",
       "9                 30.81               20.17  \n",
       "10                24.00               18.00  "
      ]
     },
     "execution_count": 9,
     "metadata": {},
     "output_type": "execute_result"
    }
   ],
   "source": [
    "X"
   ]
  },
  {
   "cell_type": "code",
   "execution_count": 10,
   "id": "3f5cf9a0",
   "metadata": {},
   "outputs": [
    {
     "data": {
      "text/plain": [
       "0      27.0\n",
       "1      63.0\n",
       "2      76.0\n",
       "3      75.0\n",
       "4      39.0\n",
       "5      37.0\n",
       "6      53.0\n",
       "7      96.0\n",
       "8      85.0\n",
       "9      49.0\n",
       "10    107.4\n",
       "Name: AQI, dtype: float64"
      ]
     },
     "execution_count": 10,
     "metadata": {},
     "output_type": "execute_result"
    }
   ],
   "source": [
    "Y"
   ]
  },
  {
   "cell_type": "code",
   "execution_count": 11,
   "id": "27fbae81",
   "metadata": {},
   "outputs": [],
   "source": [
    "from sklearn.model_selection import train_test_split # import train_test_split func from model_selection sublib.\n",
    "X_train,X_test,Y_train,Y_test = train_test_split(X,Y,test_size=0.2,random_state=10) # training and testing data (model can randomly take 10 rows at a time)"
   ]
  },
  {
   "cell_type": "code",
   "execution_count": 12,
   "id": "f4a5fc4d",
   "metadata": {},
   "outputs": [
    {
     "name": "stdout",
     "output_type": "stream",
     "text": [
      "(8, 5)\n",
      "(3, 5)\n",
      "(8,)\n",
      "(3,)\n"
     ]
    }
   ],
   "source": [
    "print(X_train.shape)\n",
    "print(X_test.shape)\n",
    "print(Y_train.shape)\n",
    "print(Y_test.shape)"
   ]
  },
  {
   "cell_type": "code",
   "execution_count": 13,
   "id": "b70c16a8",
   "metadata": {},
   "outputs": [
    {
     "data": {
      "text/plain": [
       "RandomForestRegressor(random_state=10)"
      ]
     },
     "execution_count": 13,
     "metadata": {},
     "output_type": "execute_result"
    }
   ],
   "source": [
    "from sklearn.ensemble import RandomForestRegressor\n",
    "model_RandomForest = RandomForestRegressor(n_estimators=100, random_state=10) # 100 decision trees\n",
    "model_RandomForest.fit(X_train,Y_train) # train the model"
   ]
  },
  {
   "cell_type": "code",
   "execution_count": 14,
   "id": "cb22e454",
   "metadata": {},
   "outputs": [
    {
     "data": {
      "text/plain": [
       "0.895830916289411"
      ]
     },
     "execution_count": 14,
     "metadata": {},
     "output_type": "execute_result"
    }
   ],
   "source": [
    "model_RandomForest.score(X_train,Y_train)"
   ]
  },
  {
   "cell_type": "code",
   "execution_count": 15,
   "id": "cb36b76d",
   "metadata": {},
   "outputs": [
    {
     "name": "stdout",
     "output_type": "stream",
     "text": [
      "[79.958 61.558 68.914]\n"
     ]
    }
   ],
   "source": [
    "Y_pred = model_RandomForest.predict(X_test)  # predict the value of AQI for the given testing data\n",
    "print(Y_pred)"
   ]
  },
  {
   "cell_type": "code",
   "execution_count": 16,
   "id": "fcd09281",
   "metadata": {},
   "outputs": [],
   "source": [
    "import pickle\n",
    "pickle.dump(model_RandomForest, open('randomForestRegressor.pkl','wb'))"
   ]
  },
  {
   "cell_type": "code",
   "execution_count": 17,
   "id": "ff9373cf",
   "metadata": {},
   "outputs": [],
   "source": [
    "model = pickle.load(open('randomForestRegressor.pkl','rb'))"
   ]
  },
  {
   "cell_type": "code",
   "execution_count": 18,
   "id": "524e1ace",
   "metadata": {},
   "outputs": [
    {
     "data": {
      "text/plain": [
       "RandomForestRegressor(random_state=10)"
      ]
     },
     "execution_count": 18,
     "metadata": {},
     "output_type": "execute_result"
    }
   ],
   "source": [
    "model"
   ]
  },
  {
   "cell_type": "code",
   "execution_count": 19,
   "id": "97511d2a",
   "metadata": {},
   "outputs": [
    {
     "name": "stdout",
     "output_type": "stream",
     "text": [
      "[65.47]\n"
     ]
    },
    {
     "name": "stderr",
     "output_type": "stream",
     "text": [
      "C:\\Users\\nitin\\anaconda3\\lib\\site-packages\\sklearn\\base.py:450: UserWarning: X does not have valid feature names, but RandomForestRegressor was fitted with feature names\n",
      "  warnings.warn(\n"
     ]
    }
   ],
   "source": [
    "# predict the AQI for [19,17,14,16,18]\n",
    "print(model.predict([[19,17,14,16,18]]))"
   ]
  },
  {
   "cell_type": "code",
   "execution_count": null,
   "id": "97597f97",
   "metadata": {},
   "outputs": [],
   "source": []
  }
 ],
 "metadata": {
  "kernelspec": {
   "display_name": "Python 3 (ipykernel)",
   "language": "python",
   "name": "python3"
  },
  "language_info": {
   "codemirror_mode": {
    "name": "ipython",
    "version": 3
   },
   "file_extension": ".py",
   "mimetype": "text/x-python",
   "name": "python",
   "nbconvert_exporter": "python",
   "pygments_lexer": "ipython3",
   "version": "3.9.13"
  }
 },
 "nbformat": 4,
 "nbformat_minor": 5
}
